{
 "cells": [
  {
   "cell_type": "markdown",
   "metadata": {},
   "source": [
    "# Computational Economics  (ECO288)\n",
    "\n",
    "## Tutorial: Epidemiology Models\n",
    "\n",
    "\n",
    "H.W. Heathcote: epidemiologic models are *deterministic models for infectious diseases which are spread by direct person-to-person contact in a population*.\n",
    "\n",
    "This kind of models has been used since by a few decades by economist, for matters that have nothing to do with health.\n",
    "\n",
    "- diffusion of information, or opinions on social medias\n",
    "- asset prices and fads\n",
    "- expectation formation for macroeconomic outcomes (ex: *The Epidemiology of Macroeconomic Expectations* by Chris Carroll)\n",
    "\n",
    "Epidemiologic models have two features that depart from standard economic models:\n",
    "\n",
    "- Agent's behaviour does not take the full system into account, an is irrational in the sense that it isn't forwards looking. Instead, an agent is given a behavioural heuristic.\n",
    "- The transitions of the whole system can be determined without solving for complex interactions first.\n",
    "\n",
    "Understanding why these two assumptions are very costly for economists will keep us busy during a big part of the course. Here we just consider two simple models as small programming exercises."
   ]
  },
  {
   "cell_type": "markdown",
   "metadata": {},
   "source": [
    "### Simple SIR model\n",
    "\n",
    "There is a continuum of agents of mass $1$. Each agent can be either \"Susceptible\" (S), \"Infected\" (I) or \"Recovered\" (R).\n",
    "Agents meet randomly. Each agent meets another agent drawn randomly in each period.\n",
    "During a meeting susceptible agents who meet and infected agent will always catch the disease (or the fad) but are not contagious. Infected agents, have a probability $\\pi$ of being recovered. No distinction is made between recovering as a healthy or a dead person.\n",
    "\n",
    "We're interested in the evolution in the number infected persons, both the speed of infection and the total amount of infected people in every period."
   ]
  },
  {
   "cell_type": "markdown",
   "metadata": {},
   "source": [
    "__Write down the transition equations for $n_I$, the number of infected people, for $n_R$ the number of recovered people and $n_S$ the number of susceptible people.__\n",
    "\n"
   ]
  },
  {
   "cell_type": "markdown",
   "metadata": {},
   "source": [
    "$n_{R,t} = n_{R,t-1} + n_{I,t-1}*\\pi$\n",
    "\n",
    "$n_{I,t} = n_{I,t-1} - \\pi n_{I,t-1} +  n_{S,t-1}\\frac{n_{I,t-1}}{1}$\n",
    "\n",
    "$n_{S,t} = n_{S,t-1} -  n_{S,t-1}\\frac{n_{I,t-1}}{1}$\n",
    "\n",
    "Recall $1 = n_I + n_S + n_R$"
   ]
  },
  {
   "cell_type": "markdown",
   "metadata": {},
   "source": [
    "__Compute the transition matrix $M$ for the vector state $s_t$ such that $s_{t+1}= M s_t$__\n",
    "\n"
   ]
  },
  {
   "cell_type": "code",
   "execution_count": 1,
   "metadata": {},
   "outputs": [
    {
     "data": {
      "text/plain": [
       "0.05"
      ]
     },
     "execution_count": 1,
     "metadata": {},
     "output_type": "execute_result"
    }
   ],
   "source": [
    "Π = 0.05"
   ]
  },
  {
   "cell_type": "code",
   "execution_count": 2,
   "metadata": {
    "scrolled": true
   },
   "outputs": [
    {
     "data": {
      "text/plain": [
       "f (generic function with 1 method)"
      ]
     },
     "execution_count": 2,
     "metadata": {},
     "output_type": "execute_result"
    }
   ],
   "source": [
    "function f(s)\n",
    "    n_S, n_I, n_R = s\n",
    "    new_recovered = n_I*Π\n",
    "    new_infected = n_S*n_I\n",
    "    nn_R = n_R + new_recovered\n",
    "    nn_S = n_S - new_infected\n",
    "    nn_I = n_I + new_infected - new_recovered\n",
    "    return [nn_S, nn_I, nn_R]\n",
    "end"
   ]
  },
  {
   "cell_type": "code",
   "execution_count": 3,
   "metadata": {},
   "outputs": [
    {
     "data": {
      "text/plain": [
       "3-element Array{Float64,1}:\n",
       " 0.18\n",
       " 0.5\n",
       " 0.32"
      ]
     },
     "execution_count": 3,
     "metadata": {},
     "output_type": "execute_result"
    }
   ],
   "source": [
    "f([0.3,0.4,0.3])"
   ]
  },
  {
   "cell_type": "markdown",
   "metadata": {},
   "source": [
    "__Compute the transitions over $T$ periods. Plot the result using Plots.jl. (bonus: check against closed form solution)__\n",
    "\n"
   ]
  },
  {
   "cell_type": "code",
   "execution_count": 4,
   "metadata": {},
   "outputs": [],
   "source": [
    "T = 100\n",
    "v0 = [0.3,0.4,0.3]\n",
    "sim = Vector{Float64}[]\n",
    "for t=1:T\n",
    "    push!(sim,v0)\n",
    "    v1 = f(v0)\n",
    "    v0= v1\n",
    "end"
   ]
  },
  {
   "cell_type": "code",
   "execution_count": 5,
   "metadata": {},
   "outputs": [
    {
     "name": "stderr",
     "output_type": "stream",
     "text": [
      "\u001b[32m\u001b[1m   Updating\u001b[22m\u001b[39m registry at `~/.juliapro/JuliaPro_v1.4.0-1/registries/JuliaPro`\n",
      "######################################################################### 100.0%###                                                     31.3%####                                                 36.2%##                                              40.1%###########                                           45.0%#########################                    76.4%########################               82.3%##############       94.0%\n",
      "\u001b[32m\u001b[1m  Resolving\u001b[22m\u001b[39m package versions...\n",
      "\u001b[32m\u001b[1m   Updating\u001b[22m\u001b[39m `~/.juliapro/JuliaPro_v1.4.0-1/environments/v1.4/Project.toml`\n",
      "\u001b[90m [no changes]\u001b[39m\n",
      "\u001b[32m\u001b[1m   Updating\u001b[22m\u001b[39m `~/.juliapro/JuliaPro_v1.4.0-1/environments/v1.4/Manifest.toml`\n",
      "\u001b[90m [no changes]\u001b[39m\n"
     ]
    }
   ],
   "source": [
    "import Pkg\n",
    "Pkg.add(\"Plots\")\n",
    "using Plots"
   ]
  },
  {
   "cell_type": "code",
   "execution_count": 7,
   "metadata": {},
   "outputs": [
    {
     "data": {
      "image/svg+xml": [
       "<?xml version=\"1.0\" encoding=\"utf-8\"?>\n",
       "<svg xmlns=\"http://www.w3.org/2000/svg\" xmlns:xlink=\"http://www.w3.org/1999/xlink\" width=\"600\" height=\"400\" viewBox=\"0 0 2400 1600\">\n",
       "<defs>\n",
       "  <clipPath id=\"clip6000\">\n",
       "    <rect x=\"0\" y=\"0\" width=\"2400\" height=\"1600\"/>\n",
       "  </clipPath>\n",
       "</defs>\n",
       "<path clip-path=\"url(#clip6000)\" d=\"\n",
       "M0 1600 L2400 1600 L2400 0 L0 0  Z\n",
       "  \" fill=\"#ffffff\" fill-rule=\"evenodd\" fill-opacity=\"1\"/>\n",
       "<defs>\n",
       "  <clipPath id=\"clip6001\">\n",
       "    <rect x=\"480\" y=\"0\" width=\"1681\" height=\"1600\"/>\n",
       "  </clipPath>\n",
       "</defs>\n",
       "<path clip-path=\"url(#clip6000)\" d=\"\n",
       "M180.66 1487.47 L2352.76 1487.47 L2352.76 47.2441 L180.66 47.2441  Z\n",
       "  \" fill=\"#ffffff\" fill-rule=\"evenodd\" fill-opacity=\"1\"/>\n",
       "<defs>\n",
       "  <clipPath id=\"clip6002\">\n",
       "    <rect x=\"180\" y=\"47\" width=\"2173\" height=\"1441\"/>\n",
       "  </clipPath>\n",
       "</defs>\n",
       "<polyline clip-path=\"url(#clip6002)\" style=\"stroke:#000000; stroke-width:2; stroke-opacity:0.1; fill:none\" points=\"\n",
       "  221.436,1487.47 221.436,47.2441 \n",
       "  \"/>\n",
       "<polyline clip-path=\"url(#clip6002)\" style=\"stroke:#000000; stroke-width:2; stroke-opacity:0.1; fill:none\" points=\"\n",
       "  738.898,1487.47 738.898,47.2441 \n",
       "  \"/>\n",
       "<polyline clip-path=\"url(#clip6002)\" style=\"stroke:#000000; stroke-width:2; stroke-opacity:0.1; fill:none\" points=\"\n",
       "  1256.36,1487.47 1256.36,47.2441 \n",
       "  \"/>\n",
       "<polyline clip-path=\"url(#clip6002)\" style=\"stroke:#000000; stroke-width:2; stroke-opacity:0.1; fill:none\" points=\"\n",
       "  1773.82,1487.47 1773.82,47.2441 \n",
       "  \"/>\n",
       "<polyline clip-path=\"url(#clip6002)\" style=\"stroke:#000000; stroke-width:2; stroke-opacity:0.1; fill:none\" points=\"\n",
       "  2291.28,1487.47 2291.28,47.2441 \n",
       "  \"/>\n",
       "<polyline clip-path=\"url(#clip6002)\" style=\"stroke:#000000; stroke-width:2; stroke-opacity:0.1; fill:none\" points=\"\n",
       "  180.66,1446.71 2352.76,1446.71 \n",
       "  \"/>\n",
       "<polyline clip-path=\"url(#clip6002)\" style=\"stroke:#000000; stroke-width:2; stroke-opacity:0.1; fill:none\" points=\"\n",
       "  180.66,1105.47 2352.76,1105.47 \n",
       "  \"/>\n",
       "<polyline clip-path=\"url(#clip6002)\" style=\"stroke:#000000; stroke-width:2; stroke-opacity:0.1; fill:none\" points=\"\n",
       "  180.66,764.232 2352.76,764.232 \n",
       "  \"/>\n",
       "<polyline clip-path=\"url(#clip6002)\" style=\"stroke:#000000; stroke-width:2; stroke-opacity:0.1; fill:none\" points=\"\n",
       "  180.66,422.991 2352.76,422.991 \n",
       "  \"/>\n",
       "<polyline clip-path=\"url(#clip6002)\" style=\"stroke:#000000; stroke-width:2; stroke-opacity:0.1; fill:none\" points=\"\n",
       "  180.66,81.7499 2352.76,81.7499 \n",
       "  \"/>\n",
       "<polyline clip-path=\"url(#clip6000)\" style=\"stroke:#000000; stroke-width:4; stroke-opacity:1; fill:none\" points=\"\n",
       "  180.66,1487.47 2352.76,1487.47 \n",
       "  \"/>\n",
       "<polyline clip-path=\"url(#clip6000)\" style=\"stroke:#000000; stroke-width:4; stroke-opacity:1; fill:none\" points=\"\n",
       "  180.66,1487.47 180.66,47.2441 \n",
       "  \"/>\n",
       "<polyline clip-path=\"url(#clip6000)\" style=\"stroke:#000000; stroke-width:4; stroke-opacity:1; fill:none\" points=\"\n",
       "  221.436,1487.47 221.436,1470.19 \n",
       "  \"/>\n",
       "<polyline clip-path=\"url(#clip6000)\" style=\"stroke:#000000; stroke-width:4; stroke-opacity:1; fill:none\" points=\"\n",
       "  738.898,1487.47 738.898,1470.19 \n",
       "  \"/>\n",
       "<polyline clip-path=\"url(#clip6000)\" style=\"stroke:#000000; stroke-width:4; stroke-opacity:1; fill:none\" points=\"\n",
       "  1256.36,1487.47 1256.36,1470.19 \n",
       "  \"/>\n",
       "<polyline clip-path=\"url(#clip6000)\" style=\"stroke:#000000; stroke-width:4; stroke-opacity:1; fill:none\" points=\"\n",
       "  1773.82,1487.47 1773.82,1470.19 \n",
       "  \"/>\n",
       "<polyline clip-path=\"url(#clip6000)\" style=\"stroke:#000000; stroke-width:4; stroke-opacity:1; fill:none\" points=\"\n",
       "  2291.28,1487.47 2291.28,1470.19 \n",
       "  \"/>\n",
       "<polyline clip-path=\"url(#clip6000)\" style=\"stroke:#000000; stroke-width:4; stroke-opacity:1; fill:none\" points=\"\n",
       "  180.66,1446.71 206.725,1446.71 \n",
       "  \"/>\n",
       "<polyline clip-path=\"url(#clip6000)\" style=\"stroke:#000000; stroke-width:4; stroke-opacity:1; fill:none\" points=\"\n",
       "  180.66,1105.47 206.725,1105.47 \n",
       "  \"/>\n",
       "<polyline clip-path=\"url(#clip6000)\" style=\"stroke:#000000; stroke-width:4; stroke-opacity:1; fill:none\" points=\"\n",
       "  180.66,764.232 206.725,764.232 \n",
       "  \"/>\n",
       "<polyline clip-path=\"url(#clip6000)\" style=\"stroke:#000000; stroke-width:4; stroke-opacity:1; fill:none\" points=\"\n",
       "  180.66,422.991 206.725,422.991 \n",
       "  \"/>\n",
       "<polyline clip-path=\"url(#clip6000)\" style=\"stroke:#000000; stroke-width:4; stroke-opacity:1; fill:none\" points=\"\n",
       "  180.66,81.7499 206.725,81.7499 \n",
       "  \"/>\n",
       "<g clip-path=\"url(#clip6000)\">\n",
       "<text style=\"fill:#000000; fill-opacity:1; font-family:Arial,Helvetica Neue,Helvetica,sans-serif; font-size:48px; text-anchor:middle;\" transform=\"rotate(0, 221.436, 1541.47)\" x=\"221.436\" y=\"1541.47\">0</text>\n",
       "</g>\n",
       "<g clip-path=\"url(#clip6000)\">\n",
       "<text style=\"fill:#000000; fill-opacity:1; font-family:Arial,Helvetica Neue,Helvetica,sans-serif; font-size:48px; text-anchor:middle;\" transform=\"rotate(0, 738.898, 1541.47)\" x=\"738.898\" y=\"1541.47\">25</text>\n",
       "</g>\n",
       "<g clip-path=\"url(#clip6000)\">\n",
       "<text style=\"fill:#000000; fill-opacity:1; font-family:Arial,Helvetica Neue,Helvetica,sans-serif; font-size:48px; text-anchor:middle;\" transform=\"rotate(0, 1256.36, 1541.47)\" x=\"1256.36\" y=\"1541.47\">50</text>\n",
       "</g>\n",
       "<g clip-path=\"url(#clip6000)\">\n",
       "<text style=\"fill:#000000; fill-opacity:1; font-family:Arial,Helvetica Neue,Helvetica,sans-serif; font-size:48px; text-anchor:middle;\" transform=\"rotate(0, 1773.82, 1541.47)\" x=\"1773.82\" y=\"1541.47\">75</text>\n",
       "</g>\n",
       "<g clip-path=\"url(#clip6000)\">\n",
       "<text style=\"fill:#000000; fill-opacity:1; font-family:Arial,Helvetica Neue,Helvetica,sans-serif; font-size:48px; text-anchor:middle;\" transform=\"rotate(0, 2291.28, 1541.47)\" x=\"2291.28\" y=\"1541.47\">100</text>\n",
       "</g>\n",
       "<g clip-path=\"url(#clip6000)\">\n",
       "<text style=\"fill:#000000; fill-opacity:1; font-family:Arial,Helvetica Neue,Helvetica,sans-serif; font-size:48px; text-anchor:end;\" transform=\"rotate(0, 156.66, 1464.21)\" x=\"156.66\" y=\"1464.21\">0.00</text>\n",
       "</g>\n",
       "<g clip-path=\"url(#clip6000)\">\n",
       "<text style=\"fill:#000000; fill-opacity:1; font-family:Arial,Helvetica Neue,Helvetica,sans-serif; font-size:48px; text-anchor:end;\" transform=\"rotate(0, 156.66, 1122.97)\" x=\"156.66\" y=\"1122.97\">0.25</text>\n",
       "</g>\n",
       "<g clip-path=\"url(#clip6000)\">\n",
       "<text style=\"fill:#000000; fill-opacity:1; font-family:Arial,Helvetica Neue,Helvetica,sans-serif; font-size:48px; text-anchor:end;\" transform=\"rotate(0, 156.66, 781.732)\" x=\"156.66\" y=\"781.732\">0.50</text>\n",
       "</g>\n",
       "<g clip-path=\"url(#clip6000)\">\n",
       "<text style=\"fill:#000000; fill-opacity:1; font-family:Arial,Helvetica Neue,Helvetica,sans-serif; font-size:48px; text-anchor:end;\" transform=\"rotate(0, 156.66, 440.491)\" x=\"156.66\" y=\"440.491\">0.75</text>\n",
       "</g>\n",
       "<g clip-path=\"url(#clip6000)\">\n",
       "<text style=\"fill:#000000; fill-opacity:1; font-family:Arial,Helvetica Neue,Helvetica,sans-serif; font-size:48px; text-anchor:end;\" transform=\"rotate(0, 156.66, 99.2499)\" x=\"156.66\" y=\"99.2499\">1.00</text>\n",
       "</g>\n",
       "<polyline clip-path=\"url(#clip6002)\" style=\"stroke:#009af9; stroke-width:4; stroke-opacity:1; fill:none\" points=\"\n",
       "  242.135,1037.22 262.833,1201.02 283.532,1323.87 304.23,1393.28 324.929,1424.68 345.627,1437.48 366.325,1442.67 387.024,1444.84 407.722,1445.8 428.421,1446.24 \n",
       "  449.119,1446.46 469.818,1446.57 490.516,1446.63 511.215,1446.66 531.913,1446.68 552.612,1446.69 573.31,1446.7 594.008,1446.7 614.707,1446.71 635.405,1446.71 \n",
       "  656.104,1446.71 676.802,1446.71 697.501,1446.71 718.199,1446.71 738.898,1446.71 759.596,1446.71 780.294,1446.71 800.993,1446.71 821.691,1446.71 842.39,1446.71 \n",
       "  863.088,1446.71 883.787,1446.71 904.485,1446.71 925.184,1446.71 945.882,1446.71 966.581,1446.71 987.279,1446.71 1007.98,1446.71 1028.68,1446.71 1049.37,1446.71 \n",
       "  1070.07,1446.71 1090.77,1446.71 1111.47,1446.71 1132.17,1446.71 1152.87,1446.71 1173.57,1446.71 1194.26,1446.71 1214.96,1446.71 1235.66,1446.71 1256.36,1446.71 \n",
       "  1277.06,1446.71 1297.76,1446.71 1318.45,1446.71 1339.15,1446.71 1359.85,1446.71 1380.55,1446.71 1401.25,1446.71 1421.95,1446.71 1442.64,1446.71 1463.34,1446.71 \n",
       "  1484.04,1446.71 1504.74,1446.71 1525.44,1446.71 1546.14,1446.71 1566.84,1446.71 1587.53,1446.71 1608.23,1446.71 1628.93,1446.71 1649.63,1446.71 1670.33,1446.71 \n",
       "  1691.03,1446.71 1711.72,1446.71 1732.42,1446.71 1753.12,1446.71 1773.82,1446.71 1794.52,1446.71 1815.22,1446.71 1835.92,1446.71 1856.61,1446.71 1877.31,1446.71 \n",
       "  1898.01,1446.71 1918.71,1446.71 1939.41,1446.71 1960.11,1446.71 1980.8,1446.71 2001.5,1446.71 2022.2,1446.71 2042.9,1446.71 2063.6,1446.71 2084.3,1446.71 \n",
       "  2105,1446.71 2125.69,1446.71 2146.39,1446.71 2167.09,1446.71 2187.79,1446.71 2208.49,1446.71 2229.19,1446.71 2249.88,1446.71 2270.58,1446.71 2291.28,1446.71 \n",
       "  \n",
       "  \"/>\n",
       "<polyline clip-path=\"url(#clip6002)\" style=\"stroke:#e26f46; stroke-width:4; stroke-opacity:1; fill:none\" points=\"\n",
       "  242.135,900.728 262.833,764.232 283.532,675.509 304.23,644.661 324.929,653.363 345.627,680.222 366.325,713.364 387.024,747.857 407.722,781.841 428.421,814.64 \n",
       "  449.119,846.027 469.818,875.95 490.516,904.429 511.215,931.511 531.913,957.252 552.612,981.715 573.31,1004.96 594.008,1027.04 614.707,1048.02 635.405,1067.96 \n",
       "  656.104,1086.89 676.802,1104.88 697.501,1121.97 718.199,1138.21 738.898,1153.63 759.596,1168.29 780.294,1182.21 800.993,1195.43 821.691,1208 842.39,1219.93 \n",
       "  863.088,1231.27 883.787,1242.04 904.485,1252.28 925.184,1262 945.882,1271.24 966.581,1280.01 987.279,1288.34 1007.98,1296.26 1028.68,1303.79 1049.37,1310.93 \n",
       "  1070.07,1317.72 1090.77,1324.17 1111.47,1330.3 1132.17,1336.12 1152.87,1341.65 1173.57,1346.9 1194.26,1351.89 1214.96,1356.63 1235.66,1361.14 1256.36,1365.42 \n",
       "  1277.06,1369.48 1297.76,1373.34 1318.45,1377.01 1339.15,1380.5 1359.85,1383.81 1380.55,1386.95 1401.25,1389.94 1421.95,1392.78 1442.64,1395.48 1463.34,1398.04 \n",
       "  1484.04,1400.47 1504.74,1402.78 1525.44,1404.98 1546.14,1407.07 1566.84,1409.05 1587.53,1410.93 1608.23,1412.72 1628.93,1414.42 1649.63,1416.04 1670.33,1417.57 \n",
       "  1691.03,1419.03 1711.72,1420.41 1732.42,1421.73 1753.12,1422.98 1773.82,1424.16 1794.52,1425.29 1815.22,1426.36 1835.92,1427.38 1856.61,1428.35 1877.31,1429.26 \n",
       "  1898.01,1430.14 1918.71,1430.97 1939.41,1431.75 1960.11,1432.5 1980.8,1433.21 2001.5,1433.89 2022.2,1434.53 2042.9,1435.14 2063.6,1435.72 2084.3,1436.27 \n",
       "  2105,1436.79 2125.69,1437.28 2146.39,1437.76 2167.09,1438.2 2187.79,1438.63 2208.49,1439.03 2229.19,1439.42 2249.88,1439.78 2270.58,1440.13 2291.28,1440.46 \n",
       "  \n",
       "  \"/>\n",
       "<polyline clip-path=\"url(#clip6002)\" style=\"stroke:#3da44d; stroke-width:4; stroke-opacity:1; fill:none\" points=\"\n",
       "  242.135,1037.22 262.833,1009.93 283.532,975.801 304.23,937.241 324.929,897.138 345.627,857.471 366.325,819.146 387.024,782.479 407.722,747.536 428.421,714.292 \n",
       "  449.119,682.689 469.818,652.654 490.516,624.116 511.215,597.002 531.913,571.242 552.612,546.769 573.31,523.519 594.008,501.431 614.707,480.447 635.405,460.513 \n",
       "  656.104,441.575 676.802,423.584 697.501,406.492 718.199,390.255 738.898,374.83 759.596,360.176 780.294,346.255 800.993,333.029 821.691,320.466 842.39,308.53 \n",
       "  863.088,297.191 883.787,286.419 904.485,276.185 925.184,266.464 945.882,257.228 966.581,248.454 987.279,240.119 1007.98,232.2 1028.68,224.678 1049.37,217.531 \n",
       "  1070.07,210.742 1090.77,204.293 1111.47,198.166 1132.17,192.345 1152.87,186.815 1173.57,181.562 1194.26,176.571 1214.96,171.83 1235.66,167.326 1256.36,163.047 \n",
       "  1277.06,158.982 1297.76,155.121 1318.45,151.452 1339.15,147.967 1359.85,144.656 1380.55,141.511 1401.25,138.523 1421.95,135.684 1442.64,132.988 1463.34,130.426 \n",
       "  1484.04,127.992 1504.74,125.68 1525.44,123.483 1546.14,121.397 1566.84,119.414 1587.53,117.531 1608.23,115.742 1628.93,114.042 1649.63,112.428 1670.33,110.894 \n",
       "  1691.03,109.437 1711.72,108.052 1732.42,106.737 1753.12,105.488 1773.82,104.301 1794.52,103.173 1815.22,102.102 1835.92,101.085 1856.61,100.118 1877.31,99.1995 \n",
       "  1898.01,98.327 1918.71,97.4982 1939.41,96.7107 1960.11,95.9627 1980.8,95.2521 2001.5,94.577 2022.2,93.9356 2042.9,93.3263 2063.6,92.7475 2084.3,92.1976 \n",
       "  2105,91.6752 2125.69,91.179 2146.39,90.7075 2167.09,90.2596 2187.79,89.8341 2208.49,89.4299 2229.19,89.0459 2249.88,88.6811 2270.58,88.3346 2291.28,88.0053 \n",
       "  \n",
       "  \"/>\n",
       "<path clip-path=\"url(#clip6000)\" d=\"\n",
       "M1808.03 372.684 L2280.76 372.684 L2280.76 130.764 L1808.03 130.764  Z\n",
       "  \" fill=\"#ffffff\" fill-rule=\"evenodd\" fill-opacity=\"1\"/>\n",
       "<polyline clip-path=\"url(#clip6000)\" style=\"stroke:#000000; stroke-width:4; stroke-opacity:1; fill:none\" points=\"\n",
       "  1808.03,372.684 2280.76,372.684 2280.76,130.764 1808.03,130.764 1808.03,372.684 \n",
       "  \"/>\n",
       "<polyline clip-path=\"url(#clip6000)\" style=\"stroke:#009af9; stroke-width:4; stroke-opacity:1; fill:none\" points=\"\n",
       "  1832.03,191.244 1976.03,191.244 \n",
       "  \"/>\n",
       "<g clip-path=\"url(#clip6000)\">\n",
       "<text style=\"fill:#000000; fill-opacity:1; font-family:Arial,Helvetica Neue,Helvetica,sans-serif; font-size:48px; text-anchor:start;\" transform=\"rotate(0, 2000.03, 208.744)\" x=\"2000.03\" y=\"208.744\">Suceptible</text>\n",
       "</g>\n",
       "<polyline clip-path=\"url(#clip6000)\" style=\"stroke:#e26f46; stroke-width:4; stroke-opacity:1; fill:none\" points=\"\n",
       "  1832.03,251.724 1976.03,251.724 \n",
       "  \"/>\n",
       "<g clip-path=\"url(#clip6000)\">\n",
       "<text style=\"fill:#000000; fill-opacity:1; font-family:Arial,Helvetica Neue,Helvetica,sans-serif; font-size:48px; text-anchor:start;\" transform=\"rotate(0, 2000.03, 269.224)\" x=\"2000.03\" y=\"269.224\">Infected</text>\n",
       "</g>\n",
       "<polyline clip-path=\"url(#clip6000)\" style=\"stroke:#3da44d; stroke-width:4; stroke-opacity:1; fill:none\" points=\"\n",
       "  1832.03,312.204 1976.03,312.204 \n",
       "  \"/>\n",
       "<g clip-path=\"url(#clip6000)\">\n",
       "<text style=\"fill:#000000; fill-opacity:1; font-family:Arial,Helvetica Neue,Helvetica,sans-serif; font-size:48px; text-anchor:start;\" transform=\"rotate(0, 2000.03, 329.704)\" x=\"2000.03\" y=\"329.704\">Recovered</text>\n",
       "</g>\n",
       "</svg>\n"
      ]
     },
     "execution_count": 7,
     "metadata": {},
     "output_type": "execute_result"
    }
   ],
   "source": [
    "pl = plot(x=1:T, [el[1] for el in sim], label=\"Suceptible\")\n",
    "\n",
    "plot!(pl, x=1:T, [el[2] for el in sim], label=\"Infected\")\n",
    "plot!(pl, x=1:T, [el[3] for el in sim], label=\"Recovered\")"
   ]
  },
  {
   "cell_type": "markdown",
   "metadata": {},
   "source": [
    "__Write a function of $\\mu$, $\\pi$ which returns the simulation. Compare different values of the parameters. How would you interpret \"social distancing\"?__"
   ]
  },
  {
   "cell_type": "code",
   "execution_count": null,
   "metadata": {},
   "outputs": [],
   "source": []
  },
  {
   "cell_type": "markdown",
   "metadata": {},
   "source": [
    "### A Spatial SIR model\n",
    "\n",
    "We now consider another version of the model where agents evolve in the space $\\mathcal{S}=[0,1]\\times[0,1]$. There are $N\\in\\mathbb{N}$ agent. At any date, each agent $n \\in [0,1]$  is located at $(x_n,y_n)\\in \\mathcal{S}$.\n",
    "\n",
    "Each agent moves follows a random walk bounded by $\\mathcal{S}$:\n",
    "$$x_t = \\min(\\max( x_{t-1} + \\epsilon_t, 0), 1)$$\n",
    "$$y_t = \\min(\\max( y_{t-1} + \\eta_t, 0), 1)$$\n",
    "where $\\epsilon_t$ and $\\eta_t$ are both normally distributed with standard deviation $\\sigma$.\n",
    "\n",
    "At any date, the individual state of an agent is $s_t=(x_t, y_t, h_t)$ where $h_t$ is either \"S\", \"I\" or \"R\". $v_t$ denotes the states of all agents (for instance $v_t=(s_{n,t})_n$. The health status of each agent is updated in the following way:\n",
    "\n",
    "- Agents $R$ stay $R$.\n",
    "- Agents $I$ have probability $\\pi$ to become $R$. They stay $I$ otherwise.\n",
    "- An agent of type $S$ in position $(x,y)$ has a probability $prob(x,y,S)$ to be infected that is $\\mu$ if there is another infected agent within a radius $r>0$.\n"
   ]
  },
  {
   "cell_type": "markdown",
   "metadata": {},
   "source": [
    "__Define a type `Agent`, which holds the type of an agent. The state of the whole system will be held in a `Vector[Agent]` type.__\n",
    "\n"
   ]
  },
  {
   "cell_type": "code",
   "execution_count": null,
   "metadata": {},
   "outputs": [],
   "source": []
  },
  {
   "cell_type": "markdown",
   "metadata": {},
   "source": [
    "__Write a function `spatial_transition(S::Vector[Agent])::Vector[Agent]` to compute the transition of the positions. Write another function `random_guess(T=100)` which simulates for $T$ periods in order to find a good initial guess.__\n",
    "\n"
   ]
  },
  {
   "cell_type": "code",
   "execution_count": null,
   "metadata": {},
   "outputs": [],
   "source": []
  },
  {
   "cell_type": "markdown",
   "metadata": {},
   "source": [
    "__Write a function `show_population` to plot all agents with different colors for different health status.__\n",
    "\n"
   ]
  },
  {
   "cell_type": "code",
   "execution_count": null,
   "metadata": {},
   "outputs": [],
   "source": []
  },
  {
   "cell_type": "markdown",
   "metadata": {},
   "source": [
    "__Write a function `evolve(S::Vector[Agent])::Vector[Agent]` which takes the population in a given state and returns the same population with updated health status.__\n",
    "\n"
   ]
  },
  {
   "cell_type": "code",
   "execution_count": null,
   "metadata": {},
   "outputs": [],
   "source": []
  },
  {
   "cell_type": "markdown",
   "metadata": {},
   "source": [
    "__Write a function `simulate(S0::Vector[Agent], k=1)` to simulate the economy starting from an initially random position with `k` infected individuals. The returned object should be of type `Vector[Vector[Agent]]`.__\n",
    "\n"
   ]
  },
  {
   "cell_type": "code",
   "execution_count": null,
   "metadata": {},
   "outputs": [],
   "source": []
  },
  {
   "cell_type": "markdown",
   "metadata": {},
   "source": [
    "__Compute statistics along a simulated path for $n_I$, $n_S$, $n_R$. Plot and compare with the basic SIR model__"
   ]
  },
  {
   "cell_type": "code",
   "execution_count": null,
   "metadata": {},
   "outputs": [],
   "source": []
  },
  {
   "cell_type": "markdown",
   "metadata": {},
   "source": [
    "### Additional questions\n",
    "\n",
    "Have fun by trying to answer one of these questions:\n",
    "- change probability of infection so that it depends on the number of infected people in the vincinity (with some suitable functional formulation for)\n",
    "- compute an animation of the transition\n",
    "- compute an interactive visualisation (with `Interact.jl` if available)"
   ]
  }
 ],
 "metadata": {
  "kernelspec": {
   "display_name": "Julia 1.4.0",
   "language": "julia",
   "name": "julia-1.4"
  },
  "language_info": {
   "file_extension": ".jl",
   "mimetype": "application/julia",
   "name": "julia",
   "version": "1.4.0"
  }
 },
 "nbformat": 4,
 "nbformat_minor": 4
}
